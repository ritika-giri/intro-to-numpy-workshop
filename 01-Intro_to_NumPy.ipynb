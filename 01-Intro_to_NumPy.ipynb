{
 "cells": [
  {
   "cell_type": "markdown",
   "id": "19f765f3-da43-4179-8e94-72adda20fbbe",
   "metadata": {},
   "source": [
    "## Intro to NumPy"
   ]
  },
  {
   "cell_type": "markdown",
   "id": "aa54b814-7d86-4f9c-8050-0b7c7f9a9567",
   "metadata": {},
   "source": [
    "* **NumPy** is the primary scientific computing library in Python that adds support for fast and efficient handling of large multi-dimensional arrays (matrices).\n",
    "* The primary building block of NumPy is the `numpy.ndarray`, also known by and commonly referred to using the alias `numpy.array` or `np.array`. "
   ]
  },
  {
   "cell_type": "markdown",
   "id": "b319262f-612d-4918-a7ce-46fa80380b9e",
   "metadata": {},
   "source": [
    "### Importing NumPy"
   ]
  },
  {
   "cell_type": "code",
   "execution_count": 2,
   "id": "9d700651-3ed5-49c7-86c3-1527d51afa2d",
   "metadata": {},
   "outputs": [],
   "source": [
    "import numpy as np"
   ]
  },
  {
   "cell_type": "markdown",
   "id": "7e5d74a7-a415-4794-bebd-f93a442be7f0",
   "metadata": {},
   "source": [
    "## NumPy Arrays\n",
    "The easiest way to create a NumPy `np.array` is to use the `np.array()` constructor with an existing Python `list` or `tuple`. <br>\n",
    "Note that the `np.array()` constructor expects a ***single*** `list` or `tuple` as the first argument."
   ]
  },
  {
   "cell_type": "code",
   "execution_count": 2,
   "id": "1ce4c299-cb00-4e10-afaa-08e73b071e51",
   "metadata": {},
   "outputs": [
    {
     "data": {
      "text/plain": [
       "array([1, 2, 3])"
      ]
     },
     "execution_count": 2,
     "metadata": {},
     "output_type": "execute_result"
    }
   ],
   "source": [
    "np.array([1, 2, 3])"
   ]
  },
  {
   "cell_type": "markdown",
   "id": "d6569263-c0a4-4d51-ad03-32a484a9f5ce",
   "metadata": {},
   "source": [
    "To create a multi-dimensional `np.array`, we can simply use a nested `list` or `tuple`."
   ]
  },
  {
   "cell_type": "code",
   "execution_count": 3,
   "id": "a36ce8b2-d625-428c-90db-e1476f8e9d21",
   "metadata": {},
   "outputs": [
    {
     "data": {
      "text/plain": [
       "array([[1, 2, 3],\n",
       "       [4, 5, 6],\n",
       "       [7, 8, 9]])"
      ]
     },
     "execution_count": 3,
     "metadata": {},
     "output_type": "execute_result"
    }
   ],
   "source": [
    "# nested lists\n",
    "np.array([ [1, 2, 3], [4, 5, 6], [7, 8, 9] ])"
   ]
  },
  {
   "cell_type": "code",
   "execution_count": 7,
   "id": "3506c2ef-b386-4fc3-bf0d-a2d7e4c2fe7f",
   "metadata": {},
   "outputs": [
    {
     "data": {
      "text/plain": [
       "array([[[ 1,  2],\n",
       "        [ 3,  4]],\n",
       "\n",
       "       [[ 5,  6],\n",
       "        [ 7,  8]],\n",
       "\n",
       "       [[ 9, 10],\n",
       "        [11, 12]]])"
      ]
     },
     "execution_count": 7,
     "metadata": {},
     "output_type": "execute_result"
    }
   ],
   "source": [
    "# nested tuples\n",
    "np.array((((1, 2), (3, 4)), ((5, 6), (7, 8)), ((9, 10), (11, 12))))"
   ]
  },
  {
   "cell_type": "code",
   "execution_count": 8,
   "id": "f4c72395-5684-4ff0-b569-9ec7dfefb07b",
   "metadata": {},
   "outputs": [
    {
     "ename": "TypeError",
     "evalue": "array() takes from 1 to 2 positional arguments but 3 were given",
     "output_type": "error",
     "traceback": [
      "\u001b[0;31m---------------------------------------------------------------------------\u001b[0m",
      "\u001b[0;31mTypeError\u001b[0m                                 Traceback (most recent call last)",
      "Input \u001b[0;32mIn [8]\u001b[0m, in \u001b[0;36m<cell line: 2>\u001b[0;34m()\u001b[0m\n\u001b[1;32m      1\u001b[0m \u001b[38;5;66;03m# this will result in an error\u001b[39;00m\n\u001b[0;32m----> 2\u001b[0m \u001b[43mnp\u001b[49m\u001b[38;5;241;43m.\u001b[39;49m\u001b[43marray\u001b[49m\u001b[43m(\u001b[49m\u001b[38;5;241;43m1\u001b[39;49m\u001b[43m,\u001b[49m\u001b[43m \u001b[49m\u001b[38;5;241;43m2\u001b[39;49m\u001b[43m,\u001b[49m\u001b[43m \u001b[49m\u001b[38;5;241;43m3\u001b[39;49m\u001b[43m)\u001b[49m\n",
      "\u001b[0;31mTypeError\u001b[0m: array() takes from 1 to 2 positional arguments but 3 were given"
     ]
    }
   ],
   "source": [
    "# this will result in an error\n",
    "np.array(1, 2, 3)"
   ]
  },
  {
   "cell_type": "markdown",
   "id": "17c54a49-7057-4c7d-8533-ae58a607c3c9",
   "metadata": {},
   "source": [
    "If desired, we can use the `dtype` argument to set the datatype of the `np.array` upon creation."
   ]
  },
  {
   "cell_type": "code",
   "execution_count": null,
   "id": "6c0af60c-94dc-4187-9b24-74ab5cad83c1",
   "metadata": {},
   "outputs": [],
   "source": [
    "np.array([[1, 2, 3], [4, 5, 6], [7, 8, 9]], dtype=float)"
   ]
  },
  {
   "cell_type": "code",
   "execution_count": 9,
   "id": "36dffe6a-3061-4ff8-a8e4-0ed470aedf03",
   "metadata": {},
   "outputs": [
    {
     "data": {
      "text/plain": [
       "array([['1', '2', '3'],\n",
       "       ['4', '5', '6'],\n",
       "       ['7', '8', '9']], dtype='<U1')"
      ]
     },
     "execution_count": 9,
     "metadata": {},
     "output_type": "execute_result"
    }
   ],
   "source": [
    "np.array([[1, 2, 3], [4, 5, 6], [7, 8, 9]], dtype=str)"
   ]
  },
  {
   "cell_type": "code",
   "execution_count": 10,
   "id": "c8029c3c-8075-4cff-8b63-a5eb1e1f0d08",
   "metadata": {},
   "outputs": [
    {
     "data": {
      "text/plain": [
       "array([[1.+0.j, 2.+0.j, 3.+0.j],\n",
       "       [4.+0.j, 5.+0.j, 6.+0.j],\n",
       "       [7.+0.j, 8.+0.j, 9.+0.j]])"
      ]
     },
     "execution_count": 10,
     "metadata": {},
     "output_type": "execute_result"
    }
   ],
   "source": [
    "np.array([[1, 2, 3], [4, 5, 6], [7, 8, 9]], dtype=complex)"
   ]
  },
  {
   "cell_type": "markdown",
   "id": "996c260e-9a26-47db-b027-4ddd2d2f20e4",
   "metadata": {},
   "source": [
    "### Array Attributes\n",
    "\n",
    "NumPy arrays have multiple useful attributes that give us information about the array. Here are some of the most common and useful ones.\n",
    "\n",
    "- `.size` gives you the **number of elements** in the array\n",
    "- `.shape` gives you the **dimensions** (size in each dimension) of the array\n",
    "- `.ndim` gives you the **number of dimensions** (dimensionality) of the array\n",
    "- `.dtype` gives you the **datatype** of the array"
   ]
  },
  {
   "cell_type": "code",
   "execution_count": 11,
   "id": "b6c3d6c8-25fa-454b-a0b2-07cb0a2f37fd",
   "metadata": {},
   "outputs": [
    {
     "name": "stdout",
     "output_type": "stream",
     "text": [
      "[[[ 1  2  3  4]\n",
      "  [ 5  6  7  8]\n",
      "  [ 9 10 11 12]]\n",
      "\n",
      " [[13 14 15 16]\n",
      "  [17 18 19 20]\n",
      "  [21 22 23 24]]]\n"
     ]
    }
   ],
   "source": [
    "a = np.array([[[1, 2, 3, 4], [5, 6, 7, 8], [9, 10, 11, 12]],\n",
    "              [[13, 14, 15, 16], [17, 18, 19, 20], [21, 22, 23, 24]]])\n",
    "print(a)"
   ]
  },
  {
   "cell_type": "code",
   "execution_count": 12,
   "id": "8e71e827-20c3-4603-bb36-0172436d3d1b",
   "metadata": {},
   "outputs": [
    {
     "data": {
      "text/plain": [
       "24"
      ]
     },
     "execution_count": 12,
     "metadata": {},
     "output_type": "execute_result"
    }
   ],
   "source": [
    "# number of elements\n",
    "a.size"
   ]
  },
  {
   "cell_type": "code",
   "execution_count": 13,
   "id": "b1762200-3e1a-4413-a7fa-90f6acced784",
   "metadata": {},
   "outputs": [
    {
     "data": {
      "text/plain": [
       "(2, 3, 4)"
      ]
     },
     "execution_count": 13,
     "metadata": {},
     "output_type": "execute_result"
    }
   ],
   "source": [
    "# dimensions\n",
    "a.shape"
   ]
  },
  {
   "cell_type": "code",
   "execution_count": 14,
   "id": "3c89bb5a-1330-4201-b532-1a0ef4ca7dea",
   "metadata": {},
   "outputs": [
    {
     "data": {
      "text/plain": [
       "3"
      ]
     },
     "execution_count": 14,
     "metadata": {},
     "output_type": "execute_result"
    }
   ],
   "source": [
    "# number of dimensions\n",
    "a.ndim"
   ]
  },
  {
   "cell_type": "code",
   "execution_count": 15,
   "id": "fd8ecb5c-17ef-485e-bcc6-0414d8001131",
   "metadata": {},
   "outputs": [
    {
     "data": {
      "text/plain": [
       "dtype('int64')"
      ]
     },
     "execution_count": 15,
     "metadata": {},
     "output_type": "execute_result"
    }
   ],
   "source": [
    "# datatype\n",
    "a.dtype"
   ]
  },
  {
   "cell_type": "markdown",
   "id": "d059260f-55e0-4098-b636-9932d4033439",
   "metadata": {},
   "source": [
    "### Other ways of Creating Arrays\n",
    "\n",
    "Often we might want to create an empty array with desired dimensions or initialize an array with a common value. NumPy contains a lot of helpful constructors for that.\n",
    "\n",
    "- `np.zeros()` creates an array and fills it with zeros\n",
    "- `np.ones()` creates an array and fills it with ones\n",
    "- `np.full()` creates an array and sets all elements to a specified value\n",
    "\n",
    "For a one-dimensional array, you just pass the number of elements to these constructors."
   ]
  },
  {
   "cell_type": "code",
   "execution_count": 16,
   "id": "4f12f3aa-963b-4536-b944-f61eb848f72d",
   "metadata": {},
   "outputs": [
    {
     "data": {
      "text/plain": [
       "array([0., 0., 0.])"
      ]
     },
     "execution_count": 16,
     "metadata": {},
     "output_type": "execute_result"
    }
   ],
   "source": [
    "np.zeros(3)"
   ]
  },
  {
   "cell_type": "code",
   "execution_count": 17,
   "id": "74b8a3ea-2976-4eb3-9ef3-ef42ac732782",
   "metadata": {},
   "outputs": [
    {
     "data": {
      "text/plain": [
       "array([1., 1., 1., 1.])"
      ]
     },
     "execution_count": 17,
     "metadata": {},
     "output_type": "execute_result"
    }
   ],
   "source": [
    "np.ones(4)"
   ]
  },
  {
   "cell_type": "code",
   "execution_count": 18,
   "id": "e3633f98-09ac-40aa-9614-a4008125959c",
   "metadata": {},
   "outputs": [
    {
     "data": {
      "text/plain": [
       "array([7, 7, 7, 7, 7])"
      ]
     },
     "execution_count": 18,
     "metadata": {},
     "output_type": "execute_result"
    }
   ],
   "source": [
    "np.full(5, fill_value=7)"
   ]
  },
  {
   "cell_type": "markdown",
   "id": "5bb06d6d-f9c6-4a4d-994a-4262fd2aa0a6",
   "metadata": {},
   "source": [
    "If we would like a multi-dimensional array instead, we simply pass a `tuple` or `list` with the dimensions."
   ]
  },
  {
   "cell_type": "code",
   "execution_count": 19,
   "id": "e5573585-ff97-4cb9-8a3e-e49141ff9cd3",
   "metadata": {},
   "outputs": [
    {
     "data": {
      "text/plain": [
       "array([[0., 0., 0.],\n",
       "       [0., 0., 0.]])"
      ]
     },
     "execution_count": 19,
     "metadata": {},
     "output_type": "execute_result"
    }
   ],
   "source": [
    "np.zeros((2, 3))"
   ]
  },
  {
   "cell_type": "code",
   "execution_count": 22,
   "id": "9d17dffb-5f89-46a5-ad74-733c90ccc9c0",
   "metadata": {},
   "outputs": [
    {
     "data": {
      "text/plain": [
       "array([[[7, 7],\n",
       "        [7, 7]],\n",
       "\n",
       "       [[7, 7],\n",
       "        [7, 7]],\n",
       "\n",
       "       [[7, 7],\n",
       "        [7, 7]]])"
      ]
     },
     "execution_count": 22,
     "metadata": {},
     "output_type": "execute_result"
    }
   ],
   "source": [
    "np.full([3, 2, 2], fill_value=7)"
   ]
  },
  {
   "cell_type": "markdown",
   "id": "2e5db8d5-b5ca-4e2c-9e75-850a98f134fb",
   "metadata": {},
   "source": [
    "Note how the order of the dimensions in the tuple is from highest to lowest. This order of dimensions applies across all of NumPy.\n",
    "- `(2, 3)` creates an array with two rows and three elements in each row\n",
    "- `(2, 3, 4)` creates an array with two panes with each pane consisting of three rows, each of which have four elements\n",
    "\n",
    "Also note how both `np.zeros()` and `np.ones()` create an array with floating-point elements by default. If we want an integer array, we have to specify that using the `dtype` argument."
   ]
  },
  {
   "cell_type": "code",
   "execution_count": 23,
   "id": "0b87a47e-3d60-46e2-9c64-6a0c1e7a13b5",
   "metadata": {},
   "outputs": [
    {
     "data": {
      "text/plain": [
       "array([[0, 0, 0],\n",
       "       [0, 0, 0]])"
      ]
     },
     "execution_count": 23,
     "metadata": {},
     "output_type": "execute_result"
    }
   ],
   "source": [
    "np.zeros((2, 3), dtype=int)"
   ]
  },
  {
   "cell_type": "markdown",
   "id": "1ec47eb5-175c-4062-82dd-c873bf69ed63",
   "metadata": {},
   "source": [
    "There also exists a constructor `np.empty()` that creates an ***uninitialized*** array of specified dimensions. This means that it allocates space in the computer memory for this array, but does not change the contents of said memory. The result is not an array one would usually consider *empty*. Instead you get an array filled with random garbage, also commonly referred to as *dead squirrels* in computing jargon. Basically, an array created with `np.empty()` contains the numeric representation of **whatever was in memory before the creation of the array**. The reason one would use `np.empty()` would be to quickly create an array that will be **completely filled** with totally new values later on."
   ]
  },
  {
   "cell_type": "code",
   "execution_count": 24,
   "id": "22b6d319-418f-410b-bda0-a049b22ce0ca",
   "metadata": {},
   "outputs": [
    {
     "data": {
      "text/plain": [
       "array([[0.00000000e+000, 2.05833592e-312, 2.41907520e-312,\n",
       "        2.56761491e-312, 1.93101617e-312, 1.03977794e-312],\n",
       "       [6.79038653e-313, 9.33678148e-313, 1.08221785e-312,\n",
       "        9.33678148e-313, 1.93101617e-312, 9.33678148e-313],\n",
       "       [1.12465777e-312, 6.79038653e-313, 1.97345609e-312,\n",
       "        6.79038653e-313, 1.16709769e-312, 6.79038653e-313],\n",
       "       [9.33678148e-313, 1.20953760e-312, 1.97345609e-312,\n",
       "        6.79038653e-313, 2.46151512e-312, 2.37663529e-312],\n",
       "       [1.29441743e-312, 2.35541533e-312, 2.37663529e-312,\n",
       "        2.14321575e-312, 8.70018275e-313, 0.00000000e+000]])"
      ]
     },
     "execution_count": 24,
     "metadata": {},
     "output_type": "execute_result"
    }
   ],
   "source": [
    "np.empty([5, 6])"
   ]
  },
  {
   "cell_type": "markdown",
   "id": "08e8091d-bb73-435d-9610-bd115da26835",
   "metadata": {},
   "source": [
    "To create a sequence of elements, use `np.arange()` or `np.linspace()`.\n",
    "\n",
    "- `np.arange()` works similarly to the built-in Python `range()` function and should be used for **integer** sequences\n",
    "- `np.linspace()` takes a start and end point and the ***number*** of elements desired (instead of a step) and is more suitable for use with **floating-point** numbers"
   ]
  },
  {
   "cell_type": "code",
   "execution_count": 25,
   "id": "26bbd2db-5237-4277-abef-871456a15fc1",
   "metadata": {},
   "outputs": [
    {
     "data": {
      "text/plain": [
       "array([0, 1, 2, 3, 4, 5, 6, 7, 8, 9])"
      ]
     },
     "execution_count": 25,
     "metadata": {},
     "output_type": "execute_result"
    }
   ],
   "source": [
    "np.arange(10)"
   ]
  },
  {
   "cell_type": "code",
   "execution_count": 26,
   "id": "b7c971d8-d8a5-4ecc-9efc-5959acf7862a",
   "metadata": {},
   "outputs": [
    {
     "data": {
      "text/plain": [
       "array([-10,  -8,  -6,  -4,  -2,   0,   2,   4,   6,   8])"
      ]
     },
     "execution_count": 26,
     "metadata": {},
     "output_type": "execute_result"
    }
   ],
   "source": [
    "np.arange(-10, 10, 2)"
   ]
  },
  {
   "cell_type": "markdown",
   "id": "9810ef9b-4443-4da4-a918-5033699f5972",
   "metadata": {},
   "source": [
    "**Note** how `np.arange()` uses a half-open interval *`[start, stop)`* just like the normal `range()` function, meaning th"
   ]
  },
  {
   "cell_type": "code",
   "execution_count": 27,
   "id": "9f256d13-2316-4c79-91be-02d1df16c53a",
   "metadata": {},
   "outputs": [
    {
     "data": {
      "text/plain": [
       "array([ 0,  1,  2,  3,  4,  5,  6,  7,  8,  9, 10])"
      ]
     },
     "execution_count": 27,
     "metadata": {},
     "output_type": "execute_result"
    }
   ],
   "source": [
    "np.arange(11)"
   ]
  },
  {
   "cell_type": "code",
   "execution_count": 28,
   "id": "338c9cc4-1aef-498b-a272-4f78c4f7810c",
   "metadata": {},
   "outputs": [
    {
     "data": {
      "text/plain": [
       "array([-10,  -8,  -6,  -4,  -2,   0,   2,   4,   6,   8,  10])"
      ]
     },
     "execution_count": 28,
     "metadata": {},
     "output_type": "execute_result"
    }
   ],
   "source": [
    "np.arange(-10, 11, 2)"
   ]
  },
  {
   "cell_type": "markdown",
   "id": "70308ee2-3bdd-4a57-b678-8355848ae353",
   "metadata": {},
   "source": [
    "**While** possible, it is not recommended to use `np.arange()` with **floating-point** numbers as is it difficult to predict the final number of elements. (This is due to the *somewhat imprecise* way floating-point numbers are stored in computer memory.) Hence, it is recommended you use `np.linspace()` when working with floating-point numbers. (Note that `np.linspace()` can also be used with integers.)"
   ]
  },
  {
   "cell_type": "code",
   "execution_count": 29,
   "id": "ed163fd3-4dbd-4662-a049-bfa4be51796f",
   "metadata": {},
   "outputs": [
    {
     "data": {
      "text/plain": [
       "array([0.        , 0.16534698, 0.33069396, 0.49604095, 0.66138793,\n",
       "       0.82673491, 0.99208189, 1.15742887, 1.32277585, 1.48812284,\n",
       "       1.65346982, 1.8188168 , 1.98416378, 2.14951076, 2.31485774,\n",
       "       2.48020473, 2.64555171, 2.81089869, 2.97624567, 3.14159265])"
      ]
     },
     "execution_count": 29,
     "metadata": {},
     "output_type": "execute_result"
    }
   ],
   "source": [
    "np.linspace(0, np.pi, 20)"
   ]
  },
  {
   "cell_type": "markdown",
   "id": "d78070f8-41ac-41c1-8625-a345ac5ed1e2",
   "metadata": {},
   "source": [
    "### Creating Random Arrays\n",
    "\n",
    "Note that although `np.empty()` gives you an array with *random garbage*, the values themselves might not be **random** at all. To create an array with truly random values, we should use constructors from `np.random`.\n",
    "\n",
    "- `np.random.random()` gives you an array with random elements uniformly distributed in an half-open range of *`[0.0, 1.0)`*\n",
    "- `np.random.normal()` allows you to specify the mean and standard deviation of the uniform distribution of the random elements"
   ]
  },
  {
   "cell_type": "code",
   "execution_count": 30,
   "id": "5c48d5e2-21a6-4a82-be2e-98b5b964b237",
   "metadata": {},
   "outputs": [
    {
     "data": {
      "text/plain": [
       "array([[0.01967374, 0.10630848, 0.17578497, 0.38758572],\n",
       "       [0.26286781, 0.86618898, 0.48810453, 0.57858092],\n",
       "       [0.13420439, 0.2437913 , 0.93517337, 0.7215739 ]])"
      ]
     },
     "execution_count": 30,
     "metadata": {},
     "output_type": "execute_result"
    }
   ],
   "source": [
    "np.random.random((3, 4))"
   ]
  },
  {
   "cell_type": "code",
   "execution_count": 31,
   "id": "cb71c2b5-ce37-4e33-b04c-e9025e3cb236",
   "metadata": {},
   "outputs": [
    {
     "data": {
      "text/plain": [
       "array([[ 0.49284432,  0.02520874,  1.29517373, -0.79215277],\n",
       "       [-0.40950395, -1.20288892,  1.15142491, -0.05660124],\n",
       "       [ 0.05605237, -2.18719282,  0.2817525 ,  1.85399511]])"
      ]
     },
     "execution_count": 31,
     "metadata": {},
     "output_type": "execute_result"
    }
   ],
   "source": [
    "np.random.normal(0, 1, (3, 4))  # mean of zero and a standard deviation of one"
   ]
  },
  {
   "cell_type": "markdown",
   "id": "2aab4b09-a090-4c10-8f00-58fa989e52c1",
   "metadata": {},
   "source": [
    "## Basic Operations\n",
    "\n",
    "All arithmetic operators on NumPy arrays apply ***element-wise***."
   ]
  },
  {
   "cell_type": "code",
   "execution_count": 32,
   "id": "9676e9b4-4646-4a8c-bf69-9b01faa2463c",
   "metadata": {},
   "outputs": [],
   "source": [
    "a = np.array([[ 1,  2,  3],\n",
    "              [ 4,  5,  6],\n",
    "              [ 7,  8,  9]])\n",
    "\n",
    "b = np.array([[10, 11, 12],\n",
    "              [13, 14, 15],\n",
    "              [16, 17, 18]])"
   ]
  },
  {
   "cell_type": "code",
   "execution_count": 33,
   "id": "7add3d61-915e-4bb3-8725-b727f162752d",
   "metadata": {},
   "outputs": [
    {
     "data": {
      "text/plain": [
       "array([[ 2,  3,  4],\n",
       "       [ 5,  6,  7],\n",
       "       [ 8,  9, 10]])"
      ]
     },
     "execution_count": 33,
     "metadata": {},
     "output_type": "execute_result"
    }
   ],
   "source": [
    "a + 1"
   ]
  },
  {
   "cell_type": "code",
   "execution_count": 35,
   "id": "fc01f155-bd48-44b8-9087-4712c595b3ff",
   "metadata": {},
   "outputs": [
    {
     "data": {
      "text/plain": [
       "array([[ 9, 10, 11],\n",
       "       [12, 13, 14],\n",
       "       [15, 16, 17]])"
      ]
     },
     "execution_count": 35,
     "metadata": {},
     "output_type": "execute_result"
    }
   ],
   "source": [
    "b - 1"
   ]
  },
  {
   "cell_type": "code",
   "execution_count": 36,
   "id": "0d49a5c6-e748-43e8-92f3-b888cb8499ec",
   "metadata": {},
   "outputs": [
    {
     "data": {
      "text/plain": [
       "array([[11, 13, 15],\n",
       "       [17, 19, 21],\n",
       "       [23, 25, 27]])"
      ]
     },
     "execution_count": 36,
     "metadata": {},
     "output_type": "execute_result"
    }
   ],
   "source": [
    "a + b"
   ]
  },
  {
   "cell_type": "code",
   "execution_count": 37,
   "id": "97fce573-e412-44c3-9cfc-0a6ceb9ef374",
   "metadata": {},
   "outputs": [
    {
     "data": {
      "text/plain": [
       "array([[ 10,  22,  36],\n",
       "       [ 52,  70,  90],\n",
       "       [112, 136, 162]])"
      ]
     },
     "execution_count": 37,
     "metadata": {},
     "output_type": "execute_result"
    }
   ],
   "source": [
    "a * b"
   ]
  },
  {
   "cell_type": "code",
   "execution_count": 40,
   "id": "d9e262ec-6d78-4a31-9f46-79ef74f07ff7",
   "metadata": {},
   "outputs": [
    {
     "data": {
      "text/plain": [
       "array([[1. , 1.1, 1.2],\n",
       "       [1.3, 1.4, 1.5],\n",
       "       [1.6, 1.7, 1.8]])"
      ]
     },
     "execution_count": 40,
     "metadata": {},
     "output_type": "execute_result"
    }
   ],
   "source": [
    "b / 10"
   ]
  },
  {
   "cell_type": "markdown",
   "id": "f155cb20-4aa7-405c-ac2e-85b300a1d38e",
   "metadata": {},
   "source": [
    "To do ***matrix multiplication*** in NumPy, you must use the `.dot()` method or the `@` matmul operator."
   ]
  },
  {
   "cell_type": "code",
   "execution_count": 41,
   "id": "e721161d-4364-4d6d-afc3-c58c2708fd1b",
   "metadata": {},
   "outputs": [
    {
     "data": {
      "text/plain": [
       "array([[ 84,  90,  96],\n",
       "       [201, 216, 231],\n",
       "       [318, 342, 366]])"
      ]
     },
     "execution_count": 41,
     "metadata": {},
     "output_type": "execute_result"
    }
   ],
   "source": [
    "np.dot(a, b)"
   ]
  },
  {
   "cell_type": "code",
   "execution_count": 42,
   "id": "0c3519a4-8116-4ebc-9691-2f64aed54688",
   "metadata": {},
   "outputs": [
    {
     "data": {
      "text/plain": [
       "array([[ 84,  90,  96],\n",
       "       [201, 216, 231],\n",
       "       [318, 342, 366]])"
      ]
     },
     "execution_count": 42,
     "metadata": {},
     "output_type": "execute_result"
    }
   ],
   "source": [
    "a.dot(b)"
   ]
  },
  {
   "cell_type": "code",
   "execution_count": 43,
   "id": "3401bcaa-2434-492c-ae65-e428e1963d04",
   "metadata": {},
   "outputs": [
    {
     "data": {
      "text/plain": [
       "array([[ 84,  90,  96],\n",
       "       [201, 216, 231],\n",
       "       [318, 342, 366]])"
      ]
     },
     "execution_count": 43,
     "metadata": {},
     "output_type": "execute_result"
    }
   ],
   "source": [
    "a @ b"
   ]
  },
  {
   "cell_type": "markdown",
   "id": "bdef058a-8b56-4cea-93ae-fd8728bd4993",
   "metadata": {},
   "source": [
    "Logical operators also apply ***element-wise*** in NumPy and return a *boolean* array."
   ]
  },
  {
   "cell_type": "code",
   "execution_count": 44,
   "id": "8b44dd94-106a-4a37-b348-a9d6a9ed928d",
   "metadata": {},
   "outputs": [
    {
     "data": {
      "text/plain": [
       "array([[False, False, False],\n",
       "       [False, False, False],\n",
       "       [False, False, False]])"
      ]
     },
     "execution_count": 44,
     "metadata": {},
     "output_type": "execute_result"
    }
   ],
   "source": [
    "a > b"
   ]
  },
  {
   "cell_type": "code",
   "execution_count": 45,
   "id": "c6cd4159-8556-4426-84eb-597de111bf6a",
   "metadata": {},
   "outputs": [
    {
     "data": {
      "text/plain": [
       "array([[ True,  True,  True],\n",
       "       [ True,  True,  True],\n",
       "       [ True,  True,  True]])"
      ]
     },
     "execution_count": 45,
     "metadata": {},
     "output_type": "execute_result"
    }
   ],
   "source": [
    "a < b"
   ]
  },
  {
   "cell_type": "code",
   "execution_count": 47,
   "id": "01170910-1d24-4add-9210-d77be052b6d3",
   "metadata": {},
   "outputs": [
    {
     "data": {
      "text/plain": [
       "array([[False,  True, False],\n",
       "       [False, False, False],\n",
       "       [False, False, False]])"
      ]
     },
     "execution_count": 47,
     "metadata": {},
     "output_type": "execute_result"
    }
   ],
   "source": [
    "a == 2"
   ]
  },
  {
   "cell_type": "code",
   "execution_count": 48,
   "id": "34015a52-4cb7-4778-a742-b8981b4476d5",
   "metadata": {},
   "outputs": [
    {
     "data": {
      "text/plain": [
       "array([[False,  True, False],\n",
       "       [ True, False,  True],\n",
       "       [False,  True, False]])"
      ]
     },
     "execution_count": 48,
     "metadata": {},
     "output_type": "execute_result"
    }
   ],
   "source": [
    "# true if element is even\n",
    "a % 2 == 0"
   ]
  },
  {
   "cell_type": "markdown",
   "id": "c1ef14c7-be73-4e43-82b6-183b86b89493",
   "metadata": {},
   "source": [
    "### Broadcasting\n",
    "Note how we could easily do both arithmetic and logical operations between NumPy arrays and scalar values (single numbers). This is because NumPy does something called ***broadcasting***, which allows you to do arithmetic operations between arrays of different but compatible dimensions. Basically, numpy will copy over the single value or either of the arrays as many times as needed in order to match up the dimensions.\n",
    "\n",
    "*You can learn more about broadcasting here: https://numpy.org/doc/stable/user/basics.broadcasting.html*"
   ]
  },
  {
   "cell_type": "code",
   "execution_count": 49,
   "id": "f9814a17-9f21-408a-8cd7-88478aca0b3d",
   "metadata": {},
   "outputs": [],
   "source": [
    "a = np.array([[1, 1, 1],\n",
    "              [1, 1, 1],\n",
    "              [1, 1, 1]])\n",
    "\n",
    "b = np.array([2, 3, 4])\n",
    "\n",
    "c = np.array([[2],\n",
    "              [3],\n",
    "              [4]])"
   ]
  },
  {
   "cell_type": "code",
   "execution_count": 50,
   "id": "e145d871-403a-49a4-9207-dd55819c25b3",
   "metadata": {},
   "outputs": [
    {
     "data": {
      "text/plain": [
       "array([[2, 3, 4],\n",
       "       [2, 3, 4],\n",
       "       [2, 3, 4]])"
      ]
     },
     "execution_count": 50,
     "metadata": {},
     "output_type": "execute_result"
    }
   ],
   "source": [
    "a * b"
   ]
  },
  {
   "cell_type": "code",
   "execution_count": 51,
   "id": "fe148300-258b-4760-ba94-a8013c3f36e8",
   "metadata": {},
   "outputs": [
    {
     "data": {
      "text/plain": [
       "array([[2, 2, 2],\n",
       "       [3, 3, 3],\n",
       "       [4, 4, 4]])"
      ]
     },
     "execution_count": 51,
     "metadata": {},
     "output_type": "execute_result"
    }
   ],
   "source": [
    "a * c"
   ]
  },
  {
   "cell_type": "code",
   "execution_count": 52,
   "id": "93de7ff6-0325-44c8-9af4-a92627ff7e20",
   "metadata": {},
   "outputs": [
    {
     "data": {
      "text/plain": [
       "array([[ 4,  6,  8],\n",
       "       [ 6,  9, 12],\n",
       "       [ 8, 12, 16]])"
      ]
     },
     "execution_count": 52,
     "metadata": {},
     "output_type": "execute_result"
    }
   ],
   "source": [
    "b * c"
   ]
  },
  {
   "cell_type": "markdown",
   "id": "f47f507b-09fa-4eeb-9a13-11018eadc033",
   "metadata": {},
   "source": [
    "### Vectorization"
   ]
  },
  {
   "cell_type": "markdown",
   "id": "3b7a456d-7c3b-47ba-9bf6-2f2cd9f5b294",
   "metadata": {},
   "source": [
    "Vectorization in very basic terms is parallelisation of calculations. Instead of using time-consuming loops, vectorization allows fast and efficient computation. \n",
    "\n",
    "Most of the functions you call using NumPy in your python code are merely wrappers for underlying code in C where most of the heavy lifting happens. In this way, NumPy can move the execution of loops to C, which is much more efficient than Python when it comes to looping. \n",
    "\n",
    "In fact, broadcasting works by providing a means of vectorizing array operations so that looping occurs in C instead of Python."
   ]
  },
  {
   "cell_type": "code",
   "execution_count": 30,
   "id": "3060dcc5-180b-44fa-93ec-4ecd8813b845",
   "metadata": {},
   "outputs": [],
   "source": [
    "# multiplication comparision with and without vectorizaion\n",
    "size = 100\n",
    "\n",
    "a = np.ones((size,size), dtype='int')\n",
    "b = np.full((size,size), fill_value = 5, dtype='int')"
   ]
  },
  {
   "cell_type": "code",
   "execution_count": 31,
   "id": "29900f6e-598d-4eb6-8da9-9aee082bb9eb",
   "metadata": {},
   "outputs": [],
   "source": [
    "# element-wise array multiplication with and without numpy vectorization\n",
    "\n",
    "def multiply_lists_no_vectorization(a,b):\n",
    "    for i,j in zip(a,b):\n",
    "        i*j\n",
    "        \n",
    "def multiply_arrays_with_vectorization(a,b):\n",
    "    a*b"
   ]
  },
  {
   "cell_type": "code",
   "execution_count": 32,
   "id": "c8e2a88d-d021-440d-b291-e22c38413c1a",
   "metadata": {},
   "outputs": [
    {
     "name": "stdout",
     "output_type": "stream",
     "text": [
      "44.2 µs ± 1.37 µs per loop (mean ± std. dev. of 5 runs, 10,000 loops each)\n",
      "5.02 µs ± 43.9 ns per loop (mean ± std. dev. of 5 runs, 10,000 loops each)\n"
     ]
    }
   ],
   "source": [
    "# compare computation time\n",
    "%timeit -n 10000 -r 5 multiply_lists_no_vectorization(a, b)\n",
    "%timeit -n 10000 -r 5 multiply_arrays_with_vectorization(a,b)"
   ]
  },
  {
   "cell_type": "code",
   "execution_count": null,
   "id": "ebf271ef-1c1e-49a2-ae9a-f5e8d1168864",
   "metadata": {},
   "outputs": [],
   "source": []
  },
  {
   "cell_type": "markdown",
   "id": "adfdded0-3f4f-46a7-af43-c6fc85b61f61",
   "metadata": {},
   "source": [
    "## Aggregation Functions\n",
    "\n",
    "NumPy also contains some handy aggregation functions that either operate on the whole array or along a specified axis of the array."
   ]
  },
  {
   "cell_type": "code",
   "execution_count": 53,
   "id": "70a5d0ce-3dcd-4e4a-819e-2fd04c78ddb2",
   "metadata": {},
   "outputs": [],
   "source": [
    "a = np.array([[1, 2],\n",
    "              [5, 3],\n",
    "              [4, 6]])"
   ]
  },
  {
   "cell_type": "code",
   "execution_count": 54,
   "id": "095be52d-24be-4f72-a147-027438b1c958",
   "metadata": {},
   "outputs": [
    {
     "data": {
      "text/plain": [
       "6"
      ]
     },
     "execution_count": 54,
     "metadata": {},
     "output_type": "execute_result"
    }
   ],
   "source": [
    "a.max()"
   ]
  },
  {
   "cell_type": "code",
   "execution_count": 55,
   "id": "7ef6862f-6635-46c2-90fe-87f8b94ab43d",
   "metadata": {},
   "outputs": [
    {
     "data": {
      "text/plain": [
       "1"
      ]
     },
     "execution_count": 55,
     "metadata": {},
     "output_type": "execute_result"
    }
   ],
   "source": [
    "a.min()"
   ]
  },
  {
   "cell_type": "code",
   "execution_count": 56,
   "id": "804d89e1-8ffe-4328-9df7-b47558192234",
   "metadata": {},
   "outputs": [
    {
     "data": {
      "text/plain": [
       "21"
      ]
     },
     "execution_count": 56,
     "metadata": {},
     "output_type": "execute_result"
    }
   ],
   "source": [
    "a.sum()"
   ]
  },
  {
   "cell_type": "markdown",
   "id": "a626424f-273d-44b3-8efb-a64c16ac286b",
   "metadata": {},
   "source": [
    "To run these aggregations along a certain axis, you have to specify the axis number using the `axis` named argument. The axis numbers range from `0` to `ndim-1` with the axis of the lowest dimension having the number `0` and the axis of the highest dimension having the number `ndim-1`. However, most of the time you will be dealing with two-dimensional arrays, in which case it is good to just keep in mind the following.\n",
    "\n",
    "- `axis=0` preforms the operation **across rows** and results in a single output value for each column\n",
    "- `axis=1` preforms the operation **across columns** and results in a single output value for each row"
   ]
  },
  {
   "cell_type": "code",
   "execution_count": 57,
   "id": "c4afa37e-16d9-462c-b488-b3392a61d453",
   "metadata": {},
   "outputs": [
    {
     "data": {
      "text/plain": [
       "array([5, 6])"
      ]
     },
     "execution_count": 57,
     "metadata": {},
     "output_type": "execute_result"
    }
   ],
   "source": [
    "a.max(axis=0)"
   ]
  },
  {
   "cell_type": "code",
   "execution_count": 58,
   "id": "5927242f-0cca-4587-bcd4-e8651ec3ba05",
   "metadata": {},
   "outputs": [
    {
     "data": {
      "text/plain": [
       "array([2, 5, 6])"
      ]
     },
     "execution_count": 58,
     "metadata": {},
     "output_type": "execute_result"
    }
   ],
   "source": [
    "a.max(axis=1)"
   ]
  },
  {
   "cell_type": "markdown",
   "id": "5bad99f8-418b-46dd-a5e7-1cea89ee375e",
   "metadata": {},
   "source": [
    "## Indexing and Slicing\n",
    "\n",
    "You can select elements or ranges of elements from NumPy arrays as you would from a built-in Python `list`. If you are a avid MATLAB user, just keep in mind these three key differences:\n",
    "\n",
    "1. Python uses **zero-based indexing**, meaning that the fist element of an array (or list) is at position zero.\n",
    "2. Square brackets **`[ ]`** are the indexing operator in Python.\n",
    "3. Negative indices count from the end, meaning that the **last** element of an array (or list) is at position `[-1]`. "
   ]
  },
  {
   "cell_type": "code",
   "execution_count": 59,
   "id": "3eb865ff-4b09-4b21-a6ad-d27be5d693d4",
   "metadata": {},
   "outputs": [
    {
     "name": "stdout",
     "output_type": "stream",
     "text": [
      "[[ 1  2  3  4]\n",
      " [ 5  6  7  8]\n",
      " [ 9 10 11 12]\n",
      " [13 14 15 16]\n",
      " [17 18 19 20]]\n"
     ]
    }
   ],
   "source": [
    "a = np.array([[ 1,  2,  3,  4],\n",
    "              [ 5,  6,  7,  8], \n",
    "              [ 9, 10, 11, 12], \n",
    "              [13, 14, 15, 16], \n",
    "              [17, 18, 19, 20]])\n",
    "print(a)"
   ]
  },
  {
   "cell_type": "code",
   "execution_count": 60,
   "id": "c6a133a8-50da-4c55-befb-136f47472489",
   "metadata": {},
   "outputs": [
    {
     "data": {
      "text/plain": [
       "array([1, 2, 3, 4])"
      ]
     },
     "execution_count": 60,
     "metadata": {},
     "output_type": "execute_result"
    }
   ],
   "source": [
    "a[0]"
   ]
  },
  {
   "cell_type": "code",
   "execution_count": 61,
   "id": "2e7ca5fb-c16c-4ac7-bf0d-d306b85d363d",
   "metadata": {},
   "outputs": [
    {
     "data": {
      "text/plain": [
       "array([5, 6, 7, 8])"
      ]
     },
     "execution_count": 61,
     "metadata": {},
     "output_type": "execute_result"
    }
   ],
   "source": [
    "a[1]"
   ]
  },
  {
   "cell_type": "code",
   "execution_count": 62,
   "id": "a1a0f594-69f3-418c-b51f-cfcd061e3f99",
   "metadata": {},
   "outputs": [
    {
     "data": {
      "text/plain": [
       "array([[ 5,  6,  7,  8],\n",
       "       [ 9, 10, 11, 12]])"
      ]
     },
     "execution_count": 62,
     "metadata": {},
     "output_type": "execute_result"
    }
   ],
   "source": [
    "a[1:3]"
   ]
  },
  {
   "cell_type": "markdown",
   "id": "8207881e-6547-445a-99fa-b404f43f6ac9",
   "metadata": {},
   "source": [
    "*Remember* that when using *`[start:end]`* to slice in Python, the *`end`* index is exclusive, meaning that the element at index *`end`* is not included in the slice.\n",
    "\n",
    "You can also use *`[start:end:step]`* with NumPy arrays. (Remember that omitting the *`start`* index means *slice from beginning* and omitting the *`end`* index means *slice until end*.)"
   ]
  },
  {
   "cell_type": "code",
   "execution_count": 63,
   "id": "7745e711-44ef-4225-870b-c9fcb8451004",
   "metadata": {},
   "outputs": [
    {
     "data": {
      "text/plain": [
       "array([[ 1,  2,  3,  4],\n",
       "       [ 9, 10, 11, 12],\n",
       "       [17, 18, 19, 20]])"
      ]
     },
     "execution_count": 63,
     "metadata": {},
     "output_type": "execute_result"
    }
   ],
   "source": [
    "a[::2]"
   ]
  },
  {
   "cell_type": "markdown",
   "id": "87a31465-d0ae-4b3d-94c7-c17d7c594536",
   "metadata": {},
   "source": [
    "It is good to know that using `-1` as the step when slicing reverses the selection."
   ]
  },
  {
   "cell_type": "code",
   "execution_count": 64,
   "id": "2fa70ab6-4902-4be2-8c3e-5869c9f6c816",
   "metadata": {},
   "outputs": [
    {
     "data": {
      "text/plain": [
       "array([4, 3, 2, 1])"
      ]
     },
     "execution_count": 64,
     "metadata": {},
     "output_type": "execute_result"
    }
   ],
   "source": [
    "a[0][::-1]"
   ]
  },
  {
   "cell_type": "code",
   "execution_count": 65,
   "id": "c51e9590-c1a8-46d0-8034-93f560c72e91",
   "metadata": {},
   "outputs": [
    {
     "data": {
      "text/plain": [
       "array([[17, 18, 19, 20],\n",
       "       [13, 14, 15, 16],\n",
       "       [ 9, 10, 11, 12],\n",
       "       [ 5,  6,  7,  8],\n",
       "       [ 1,  2,  3,  4]])"
      ]
     },
     "execution_count": 65,
     "metadata": {},
     "output_type": "execute_result"
    }
   ],
   "source": [
    "a[::-1]"
   ]
  },
  {
   "cell_type": "markdown",
   "id": "9c4e4f2f-936f-457e-be0b-8526d4f0037f",
   "metadata": {},
   "source": [
    "To access elements from multi-dimensional arrays, we can use **chained indexing**."
   ]
  },
  {
   "cell_type": "code",
   "execution_count": 66,
   "id": "cc8df16f-7c4f-4ef9-b142-0e76584a2c6e",
   "metadata": {},
   "outputs": [
    {
     "data": {
      "text/plain": [
       "17"
      ]
     },
     "execution_count": 66,
     "metadata": {},
     "output_type": "execute_result"
    }
   ],
   "source": [
    "a[-1][0]"
   ]
  },
  {
   "cell_type": "code",
   "execution_count": 67,
   "id": "9ab7f737-dc9d-452e-8f46-44b82dc394f7",
   "metadata": {},
   "outputs": [
    {
     "data": {
      "text/plain": [
       "array([2, 3])"
      ]
     },
     "execution_count": 67,
     "metadata": {},
     "output_type": "execute_result"
    }
   ],
   "source": [
    "a[0][1:3]"
   ]
  },
  {
   "cell_type": "markdown",
   "id": "0cb56481-1477-4dc3-826d-311fd06f70df",
   "metadata": {},
   "source": [
    "However, chained indexing has its limitations. For example, slicing a multi-dimensional array also returns a multi-dimensional array, often leading to confusion when using chained indexing.\n",
    "\n",
    "You can also index multi-dimensional NumPy arrays by including multiple comma-separated indices or ranges in the **`[ ]`** indexing operator, one for each dimension. It is recommended to use this approach as opposed to chained indexing. Note that the order of dimensions is again from highest to lowest."
   ]
  },
  {
   "cell_type": "code",
   "execution_count": 68,
   "id": "fdc87287-d392-447d-94d4-ab9081610136",
   "metadata": {},
   "outputs": [
    {
     "name": "stdout",
     "output_type": "stream",
     "text": [
      "[[ 1  2  3  4]\n",
      " [ 5  6  7  8]\n",
      " [ 9 10 11 12]\n",
      " [13 14 15 16]\n",
      " [17 18 19 20]]\n"
     ]
    }
   ],
   "source": [
    "# print out the matrix again for reference\n",
    "print(a)"
   ]
  },
  {
   "cell_type": "code",
   "execution_count": 69,
   "id": "474e681d-92b1-4926-b34f-1b18f864784c",
   "metadata": {},
   "outputs": [
    {
     "data": {
      "text/plain": [
       "2"
      ]
     },
     "execution_count": 69,
     "metadata": {},
     "output_type": "execute_result"
    }
   ],
   "source": [
    "# second element in first row\n",
    "a[0, 1]"
   ]
  },
  {
   "cell_type": "code",
   "execution_count": 70,
   "id": "74b8e014-e535-4212-96ab-f602fef2d2f9",
   "metadata": {},
   "outputs": [
    {
     "data": {
      "text/plain": [
       "5"
      ]
     },
     "execution_count": 70,
     "metadata": {},
     "output_type": "execute_result"
    }
   ],
   "source": [
    "# first element in second row\n",
    "a[1, 0]"
   ]
  },
  {
   "cell_type": "code",
   "execution_count": 71,
   "id": "0940c702-8648-4012-ad21-c7c9e6a91ff3",
   "metadata": {},
   "outputs": [
    {
     "data": {
      "text/plain": [
       "array([5, 6, 7, 8])"
      ]
     },
     "execution_count": 71,
     "metadata": {},
     "output_type": "execute_result"
    }
   ],
   "source": [
    "# entire second row\n",
    "a[1, :]"
   ]
  },
  {
   "cell_type": "code",
   "execution_count": 72,
   "id": "3b11f7b4-548a-46eb-8ce1-282ea0f78ac2",
   "metadata": {},
   "outputs": [
    {
     "data": {
      "text/plain": [
       "array([ 2,  6, 10, 14, 18])"
      ]
     },
     "execution_count": 72,
     "metadata": {},
     "output_type": "execute_result"
    }
   ],
   "source": [
    "# entire second column\n",
    "a[:, 1]"
   ]
  },
  {
   "cell_type": "code",
   "execution_count": 73,
   "id": "f23a8315-82b8-4d1e-beb7-bbb7465d42a4",
   "metadata": {},
   "outputs": [
    {
     "data": {
      "text/plain": [
       "array([ 8, 12])"
      ]
     },
     "execution_count": 73,
     "metadata": {},
     "output_type": "execute_result"
    }
   ],
   "source": [
    "# the last element from the second and third rows\n",
    "a[1:3, -1]"
   ]
  },
  {
   "cell_type": "code",
   "execution_count": 74,
   "id": "50d4b728-bb9a-4d45-bc5f-49c47d71da72",
   "metadata": {},
   "outputs": [
    {
     "data": {
      "text/plain": [
       "array([[ 6,  7],\n",
       "       [10, 11],\n",
       "       [14, 15]])"
      ]
     },
     "execution_count": 74,
     "metadata": {},
     "output_type": "execute_result"
    }
   ],
   "source": [
    "# the middle 3x2 selection\n",
    "a[1:4, 1:3]"
   ]
  },
  {
   "cell_type": "code",
   "execution_count": 75,
   "id": "eb33c1dc-a78b-4218-a2eb-eb534d3cc101",
   "metadata": {},
   "outputs": [
    {
     "data": {
      "text/plain": [
       "array([[ 2,  3,  4],\n",
       "       [ 6,  7,  8],\n",
       "       [10, 11, 12],\n",
       "       [14, 15, 16]])"
      ]
     },
     "execution_count": 75,
     "metadata": {},
     "output_type": "execute_result"
    }
   ],
   "source": [
    "# the upper-right-most 4x3 selection\n",
    "a[:4, 1:]"
   ]
  },
  {
   "cell_type": "markdown",
   "id": "8643c07c-7203-4f96-aabe-202f3b6001a4",
   "metadata": {},
   "source": [
    "You can use indexing to change single elements and slicing to change entire selections."
   ]
  },
  {
   "cell_type": "code",
   "execution_count": 76,
   "id": "053b262c-087b-4039-9914-faf02dc4e187",
   "metadata": {},
   "outputs": [
    {
     "name": "stdout",
     "output_type": "stream",
     "text": [
      "[[ 0  2  3  4]\n",
      " [ 5  6  7  8]\n",
      " [ 9 10 11 12]\n",
      " [13 14 15 16]\n",
      " [17 18 19 20]]\n"
     ]
    }
   ],
   "source": [
    "a[0, 0] = 0\n",
    "print(a)"
   ]
  },
  {
   "cell_type": "code",
   "execution_count": 77,
   "id": "3c672259-cf5f-4e32-9a4e-38147f451208",
   "metadata": {},
   "outputs": [
    {
     "name": "stdout",
     "output_type": "stream",
     "text": [
      "[[ 0  2  3  4]\n",
      " [ 5  6  7  8]\n",
      " [ 9 10 11 12]\n",
      " [13 14  0  0]\n",
      " [17 18  0  0]]\n"
     ]
    }
   ],
   "source": [
    "a[3:, 2:] = 0\n",
    "print(a)"
   ]
  },
  {
   "cell_type": "markdown",
   "id": "39db0b9e-fb42-44e6-a7ad-2a355dcade98",
   "metadata": {},
   "source": [
    "## Iterating\n",
    "\n",
    "Iterating over multi-dimensional NumPy arrays is done with respect to the highest dimension (first axis)."
   ]
  },
  {
   "cell_type": "code",
   "execution_count": 78,
   "id": "dc61ad19-c1b9-4899-88f5-780b3482479b",
   "metadata": {},
   "outputs": [],
   "source": [
    "a = np.array([[1, 2, 3],\n",
    "              [4, 5, 6],\n",
    "              [7, 8, 9]])"
   ]
  },
  {
   "cell_type": "code",
   "execution_count": 79,
   "id": "fece2b32-188b-44d7-b4b7-669f12f22fc9",
   "metadata": {},
   "outputs": [
    {
     "name": "stdout",
     "output_type": "stream",
     "text": [
      "[1 2 3]\n",
      "[4 5 6]\n",
      "[7 8 9]\n"
     ]
    }
   ],
   "source": [
    "for row in a:\n",
    "    print(row)"
   ]
  },
  {
   "cell_type": "markdown",
   "id": "1fa81775-5ef6-459a-8145-22d42258505a",
   "metadata": {},
   "source": [
    "To iterate over ***each element*** of a multi-dimensional array, one may use nested loops."
   ]
  },
  {
   "cell_type": "code",
   "execution_count": 80,
   "id": "d8689b6c-f793-449c-bf04-bf5a53382cca",
   "metadata": {},
   "outputs": [
    {
     "name": "stdout",
     "output_type": "stream",
     "text": [
      "1\n",
      "2\n",
      "3\n",
      "4\n",
      "5\n",
      "6\n",
      "7\n",
      "8\n",
      "9\n"
     ]
    }
   ],
   "source": [
    "for row in a:\n",
    "    for element in row:\n",
    "        print(element)"
   ]
  },
  {
   "cell_type": "markdown",
   "id": "a52bd598-68f0-4ff5-b1ce-fa87aa5e0a56",
   "metadata": {},
   "source": [
    "However, nested loops are often inefficient and could easily lead to confusion and unmaintainable code. Hence, it is recommended to avoid nested loops if possible.\n",
    "\n",
    "Luckily for you, NumPy includes functionality for easily iterating over all objects in a NumPy array. For example, you could use the `.flat` attribute."
   ]
  },
  {
   "cell_type": "code",
   "execution_count": 81,
   "id": "65b209d9-a64d-4b75-978b-7de346e6e1da",
   "metadata": {},
   "outputs": [
    {
     "name": "stdout",
     "output_type": "stream",
     "text": [
      "1\n",
      "2\n",
      "3\n",
      "4\n",
      "5\n",
      "6\n",
      "7\n",
      "8\n",
      "9\n"
     ]
    }
   ],
   "source": [
    "for element in a.flat:\n",
    "    print(element)"
   ]
  },
  {
   "cell_type": "markdown",
   "id": "4d9fc738-b629-491f-bdd3-a585d6cd8231",
   "metadata": {},
   "source": [
    "Note that `.flat` returns an iterator. Basically, that is just something that tells Python how to iterate over ***all*** the elements of the array using a `for` loop. It does not actually return a flattened one-dimensional version of the original array. To do that, we can use the `.flatten()` method."
   ]
  },
  {
   "cell_type": "code",
   "execution_count": 82,
   "id": "d47c0307-5699-41ca-aa19-d718dd7872f7",
   "metadata": {},
   "outputs": [
    {
     "data": {
      "text/plain": [
       "array([1, 2, 3, 4, 5, 6, 7, 8, 9])"
      ]
     },
     "execution_count": 82,
     "metadata": {},
     "output_type": "execute_result"
    }
   ],
   "source": [
    "a.flatten()"
   ]
  },
  {
   "cell_type": "markdown",
   "id": "6e1af6ee-96c7-4894-81d1-adf87016f206",
   "metadata": {},
   "source": [
    "There are two ways to flatten an array:\n",
    "\n",
    "- `order='F'` results in **Fortran**-like ***column-major*** behavior\n",
    "- `order='C'` results in **C**-like ***row-major*** behavior (which is also the default)"
   ]
  },
  {
   "cell_type": "code",
   "execution_count": 1,
   "id": "0f3f707a-0461-408f-a6f8-6c04029f1398",
   "metadata": {},
   "outputs": [
    {
     "ename": "NameError",
     "evalue": "name 'np' is not defined",
     "output_type": "error",
     "traceback": [
      "\u001b[0;31m---------------------------------------------------------------------------\u001b[0m",
      "\u001b[0;31mNameError\u001b[0m                                 Traceback (most recent call last)",
      "Input \u001b[0;32mIn [1]\u001b[0m, in \u001b[0;36m<cell line: 1>\u001b[0;34m()\u001b[0m\n\u001b[0;32m----> 1\u001b[0m a \u001b[38;5;241m=\u001b[39m \u001b[43mnp\u001b[49m\u001b[38;5;241m.\u001b[39marray([[\u001b[38;5;241m1\u001b[39m, \u001b[38;5;241m2\u001b[39m, \u001b[38;5;241m3\u001b[39m],\n\u001b[1;32m      2\u001b[0m               [\u001b[38;5;241m4\u001b[39m, \u001b[38;5;241m5\u001b[39m, \u001b[38;5;241m6\u001b[39m],\n\u001b[1;32m      3\u001b[0m               [\u001b[38;5;241m7\u001b[39m, \u001b[38;5;241m8\u001b[39m, \u001b[38;5;241m9\u001b[39m]])\n",
      "\u001b[0;31mNameError\u001b[0m: name 'np' is not defined"
     ]
    }
   ],
   "source": [
    "a = np.array([[1, 2, 3],\n",
    "              [4, 5, 6],\n",
    "              [7, 8, 9]])"
   ]
  },
  {
   "cell_type": "code",
   "execution_count": null,
   "id": "e239445e-2808-4c7b-be66-84b9937f9ca4",
   "metadata": {},
   "outputs": [],
   "source": [
    "a.flatten()"
   ]
  },
  {
   "cell_type": "code",
   "execution_count": null,
   "id": "30f82855-7e94-4db4-b8e5-415734108ac3",
   "metadata": {},
   "outputs": [],
   "source": [
    "a.flatten(order='F')"
   ]
  },
  {
   "cell_type": "markdown",
   "id": "d8772728-85d4-4f45-964a-5aabdef008c2",
   "metadata": {},
   "source": [
    "## Copy vs View\n",
    "\n",
    "Let's say we have the following matrix `a`."
   ]
  },
  {
   "cell_type": "code",
   "execution_count": 86,
   "id": "884362cd-c6a7-4143-ae89-bbb89c57ec99",
   "metadata": {},
   "outputs": [],
   "source": [
    "a = np.array([[1, 2, 3],\n",
    "              [4, 5, 6],\n",
    "              [7, 8, 9]])"
   ]
  },
  {
   "cell_type": "code",
   "execution_count": 87,
   "id": "f2a33003-323d-4c30-a596-72440f3ca727",
   "metadata": {},
   "outputs": [
    {
     "name": "stdout",
     "output_type": "stream",
     "text": [
      "[[5 6]\n",
      " [8 9]]\n"
     ]
    }
   ],
   "source": [
    "b = a[1:, 1:]\n",
    "print(b)"
   ]
  },
  {
   "cell_type": "code",
   "execution_count": 88,
   "id": "2fb29a1d-5fd1-4771-9402-63804d80e49f",
   "metadata": {},
   "outputs": [
    {
     "name": "stdout",
     "output_type": "stream",
     "text": [
      "[[0 6]\n",
      " [8 9]]\n"
     ]
    }
   ],
   "source": [
    "# Now let's modify the upper-left-most element of b.\n",
    "b[0, 0] = 0\n",
    "print(b)"
   ]
  },
  {
   "cell_type": "markdown",
   "id": "69f610a4-f8d5-4538-a2fd-885004bd10c5",
   "metadata": {},
   "source": [
    "*After* playing around with `b` and modifying its values we want to go back to `a` and take a look at the original values again."
   ]
  },
  {
   "cell_type": "code",
   "execution_count": 89,
   "id": "e6fb4295-6850-4c10-b6f4-b33ec32bd867",
   "metadata": {},
   "outputs": [
    {
     "name": "stdout",
     "output_type": "stream",
     "text": [
      "[[1 2 3]\n",
      " [4 0 6]\n",
      " [7 8 9]]\n"
     ]
    }
   ],
   "source": [
    "print(a)"
   ]
  },
  {
   "cell_type": "markdown",
   "id": "ac373d87-6065-4207-8535-5bad291688e4",
   "metadata": {},
   "source": [
    "**The values in our original matrix `a` have also changed!**\n",
    "\n",
    "That is because most NumPy operations return a ***view*** of the original array instead of a copy. This is computationally more efficient and allows NumPy to preform fast operations even on really large and complex arrays because the data is never copied over in computer memory. Instead we are shown the same array stored in memory using a slightly different view (you can think of it as a window) that perhaps blocks out some elements and changes the order of others. **Most** operations in NumPy, including **all** indexing and slicing operations, result in a different ***view*** of the original array, never a copy.\n",
    "\n",
    "However, this is not how MATLAB handles things. In MATLAB, most operations result in a ***copy*** of the original array, allowing you to modify the outputs of various operations without having to worry about changing the original data. Hence, avid MATLAB users must keep in mind that this is not the case in NumPy to avoid unintentionally overwriting data.\n",
    "\n",
    "It is also crucial to note that this behavior of returning a ***view*** is not universal in NumPy. While **most** operations return a ***view*** some might return a ***copy***. Furthermore, due to the optimizing behavior of Python, in some cases the same function or operation might sometimes return a view and other times return a copy, depending on the input and whatever is most efficient at the time. Hence, you should **always read the documentation** of a function or method to know for sure whether it returns a view or a copy in your particular use case.\n",
    "\n",
    "However, when using NumPy, it is safe to assume that everything returns a ***view*** unless explicitly asked otherwise. To ensure you are working with a ***copy*** in NumPy, use the `.copy()` method."
   ]
  },
  {
   "cell_type": "code",
   "execution_count": 90,
   "id": "bb60ce3c-730a-4cd5-9b85-24b8c193f289",
   "metadata": {},
   "outputs": [],
   "source": [
    "# repeat exercise with copy instead now\n"
   ]
  },
  {
   "cell_type": "markdown",
   "id": "b8aa77fa-6298-4127-bd31-5292555912f8",
   "metadata": {},
   "source": [
    "## Shape Manipulation\n",
    "\n",
    "NumPy makes it really easy to manipulate the shape of an array. Note that all of these manipulations just return a different ***view*** of the same array and do not actually create a new array or change data in computer memory."
   ]
  },
  {
   "cell_type": "code",
   "execution_count": 91,
   "id": "989a9d69-3796-4cfd-a0a4-d0b7f04d34dc",
   "metadata": {},
   "outputs": [],
   "source": [
    "a = np.array([[ 1,  2,  3,  4,  5,  6],\n",
    "              [ 7,  8,  9, 10, 11, 12],\n",
    "              [13, 14, 15, 16, 17, 18]])"
   ]
  },
  {
   "cell_type": "code",
   "execution_count": 92,
   "id": "566fd2d1-a7a6-48a8-862c-547bd9d68732",
   "metadata": {},
   "outputs": [
    {
     "data": {
      "text/plain": [
       "array([[ 1,  2,  3,  4,  5,  6,  7,  8,  9],\n",
       "       [10, 11, 12, 13, 14, 15, 16, 17, 18]])"
      ]
     },
     "execution_count": 92,
     "metadata": {},
     "output_type": "execute_result"
    }
   ],
   "source": [
    "a.reshape(2, 9)"
   ]
  },
  {
   "cell_type": "code",
   "execution_count": 93,
   "id": "139f99b3-72e2-4d72-baaa-77dcf09106e1",
   "metadata": {},
   "outputs": [
    {
     "data": {
      "text/plain": [
       "array([[ 1,  2,  3],\n",
       "       [ 4,  5,  6],\n",
       "       [ 7,  8,  9],\n",
       "       [10, 11, 12],\n",
       "       [13, 14, 15],\n",
       "       [16, 17, 18]])"
      ]
     },
     "execution_count": 93,
     "metadata": {},
     "output_type": "execute_result"
    }
   ],
   "source": [
    "a.reshape(6, 3)"
   ]
  },
  {
   "cell_type": "code",
   "execution_count": 94,
   "id": "eb1a1707-9584-46bc-b5ab-8fe6c6e99afc",
   "metadata": {},
   "outputs": [
    {
     "data": {
      "text/plain": [
       "array([[ 1,  7, 13],\n",
       "       [ 2,  8, 14],\n",
       "       [ 3,  9, 15],\n",
       "       [ 4, 10, 16],\n",
       "       [ 5, 11, 17],\n",
       "       [ 6, 12, 18]])"
      ]
     },
     "execution_count": 94,
     "metadata": {},
     "output_type": "execute_result"
    }
   ],
   "source": [
    "a.T"
   ]
  },
  {
   "cell_type": "code",
   "execution_count": 95,
   "id": "495c8d8e-8edc-4600-a7d6-b31f2cc6b5f0",
   "metadata": {},
   "outputs": [
    {
     "name": "stdout",
     "output_type": "stream",
     "text": [
      "[[ 0  1  2  3]\n",
      " [ 4  5  6  7]\n",
      " [ 8  9 10 11]\n",
      " [12 13 14 15]\n",
      " [16 17 18 19]\n",
      " [20 21 22 23]]\n"
     ]
    }
   ],
   "source": [
    "a = np.arange(24).reshape(6,4)\n",
    "print(a)"
   ]
  },
  {
   "cell_type": "code",
   "execution_count": 96,
   "id": "0c424d9c-be0a-48eb-b344-a9426432e329",
   "metadata": {},
   "outputs": [
    {
     "data": {
      "text/plain": [
       "array([[ 0,  1,  2,  3,  4,  5,  6,  7,  8,  9, 10, 11],\n",
       "       [12, 13, 14, 15, 16, 17, 18, 19, 20, 21, 22, 23]])"
      ]
     },
     "execution_count": 96,
     "metadata": {},
     "output_type": "execute_result"
    }
   ],
   "source": [
    "a.reshape(2, -1)"
   ]
  },
  {
   "cell_type": "code",
   "execution_count": 97,
   "id": "b6c0e02d-6465-452b-b274-c716b8061146",
   "metadata": {},
   "outputs": [
    {
     "data": {
      "text/plain": [
       "array([[ 0,  1,  2],\n",
       "       [ 3,  4,  5],\n",
       "       [ 6,  7,  8],\n",
       "       [ 9, 10, 11],\n",
       "       [12, 13, 14],\n",
       "       [15, 16, 17],\n",
       "       [18, 19, 20],\n",
       "       [21, 22, 23]])"
      ]
     },
     "execution_count": 97,
     "metadata": {},
     "output_type": "execute_result"
    }
   ],
   "source": [
    "a.reshape(-1, 3)"
   ]
  },
  {
   "cell_type": "code",
   "execution_count": 99,
   "id": "4620513b-dbcf-496e-b94a-2e7dd5bf02d7",
   "metadata": {},
   "outputs": [
    {
     "data": {
      "text/plain": [
       "array([[[ 0,  1,  2],\n",
       "        [ 3,  4,  5],\n",
       "        [ 6,  7,  8],\n",
       "        [ 9, 10, 11]],\n",
       "\n",
       "       [[12, 13, 14],\n",
       "        [15, 16, 17],\n",
       "        [18, 19, 20],\n",
       "        [21, 22, 23]]])"
      ]
     },
     "execution_count": 99,
     "metadata": {},
     "output_type": "execute_result"
    }
   ],
   "source": [
    "a.reshape(2, -1, 3)"
   ]
  },
  {
   "cell_type": "markdown",
   "id": "36ea8e61-ef0a-4cd8-8410-8cee51256cb4",
   "metadata": {},
   "source": [
    "## Search, Sort, Filter"
   ]
  },
  {
   "cell_type": "markdown",
   "id": "1b4e7854-b30b-467f-a114-81f4c5881b5f",
   "metadata": {},
   "source": [
    "You can search an array for a certain value, and return the indexes that get a match with `np.where`"
   ]
  },
  {
   "cell_type": "code",
   "execution_count": 39,
   "id": "956f63ba-d630-4a25-bdfc-019408c4cb7a",
   "metadata": {},
   "outputs": [
    {
     "name": "stdout",
     "output_type": "stream",
     "text": [
      "(array([3, 5, 6]),)\n"
     ]
    }
   ],
   "source": [
    "# Find the indexes where the value is 4:\n",
    "a = np.array([1, 2, 3, 4, 5, 4, 4])\n",
    "x = np.where(a == 4)\n",
    "print(x)"
   ]
  },
  {
   "cell_type": "code",
   "execution_count": 34,
   "id": "f8d1fb98-0528-4363-a208-b7ba349a9863",
   "metadata": {},
   "outputs": [
    {
     "name": "stdout",
     "output_type": "stream",
     "text": [
      "(array([1, 3, 5, 7]),)\n"
     ]
    }
   ],
   "source": [
    "# Find the indexes where the values are even\n",
    "a = np.array([1, 2, 3, 4, 5, 6, 7, 8])\n",
    "x = np.where(a%2 == 0)\n",
    "print(x) "
   ]
  },
  {
   "cell_type": "markdown",
   "id": "caf7475a-8c8f-4f18-983c-402e334e8b32",
   "metadata": {},
   "source": [
    "The NumPy ndarray object has a function called `sort()`, that will sort a specified array."
   ]
  },
  {
   "cell_type": "code",
   "execution_count": 35,
   "id": "a6d564db-7b90-4fad-aad2-5b4abcc82e8a",
   "metadata": {},
   "outputs": [
    {
     "name": "stdout",
     "output_type": "stream",
     "text": [
      "[0 1 2 3]\n"
     ]
    }
   ],
   "source": [
    "a= np.array([3, 2, 0, 1])\n",
    "print(np.sort(a)) "
   ]
  },
  {
   "cell_type": "code",
   "execution_count": 36,
   "id": "49d9d24e-8bfd-465a-a83f-553140453dd1",
   "metadata": {},
   "outputs": [
    {
     "name": "stdout",
     "output_type": "stream",
     "text": [
      "['apple' 'banana' 'cherry']\n"
     ]
    }
   ],
   "source": [
    "a = np.array(['banana', 'cherry', 'apple'])\n",
    "print(np.sort(a))"
   ]
  },
  {
   "cell_type": "markdown",
   "id": "cb54e029-5d62-4551-8ae6-2be6f71f1bdf",
   "metadata": {},
   "source": [
    "Getting some elements out of an existing array and creating a new array out of them is called filtering. If the value at an index is `True` that element is contained in the filtered array, if the value at that index is `False` that element is excluded from the filtered array."
   ]
  },
  {
   "cell_type": "code",
   "execution_count": 37,
   "id": "768b423a-a5d0-43c6-94e1-dc2210902928",
   "metadata": {},
   "outputs": [
    {
     "name": "stdout",
     "output_type": "stream",
     "text": [
      "[41 43]\n"
     ]
    }
   ],
   "source": [
    "a = np.array([41, 42, 43, 44])\n",
    "x = [True, False, True, False]\n",
    "\n",
    "new_array = a[x]\n",
    "\n",
    "print(new_array)"
   ]
  },
  {
   "cell_type": "markdown",
   "id": "5d4657ae-d49a-4653-95b9-3371bc2dca51",
   "metadata": {},
   "source": [
    "Sometimes you want the indices/position of the element, not the element itself. In that case `arg-` functions come in handy.\n",
    "- `np.argmax`Returns the indices of the maximum values along an axis\n",
    "- `np.argmin`Returns the indices of the minimum values along an axis\n",
    "- `np.argsort` Returns the indices that would sort an array"
   ]
  },
  {
   "cell_type": "code",
   "execution_count": 40,
   "id": "312d037a-7230-4691-ae38-08d3c4666d04",
   "metadata": {},
   "outputs": [],
   "source": [
    "a = np.array([1, 2, 3, 4, 5, 6, 7, 8])"
   ]
  },
  {
   "cell_type": "code",
   "execution_count": 41,
   "id": "aa93df47-4ded-49a0-9227-1e2a207bea58",
   "metadata": {},
   "outputs": [
    {
     "data": {
      "text/plain": [
       "7"
      ]
     },
     "execution_count": 41,
     "metadata": {},
     "output_type": "execute_result"
    }
   ],
   "source": [
    "np.argmax(a)"
   ]
  },
  {
   "cell_type": "code",
   "execution_count": 42,
   "id": "42f70b95-b060-418b-827a-087157f14c98",
   "metadata": {},
   "outputs": [
    {
     "data": {
      "text/plain": [
       "0"
      ]
     },
     "execution_count": 42,
     "metadata": {},
     "output_type": "execute_result"
    }
   ],
   "source": [
    "np.argmin(a)"
   ]
  },
  {
   "cell_type": "code",
   "execution_count": 43,
   "id": "acfb45c3-525b-4122-9424-5156060af495",
   "metadata": {},
   "outputs": [
    {
     "data": {
      "text/plain": [
       "array([0, 1, 2, 3, 4, 5, 6, 7])"
      ]
     },
     "execution_count": 43,
     "metadata": {},
     "output_type": "execute_result"
    }
   ],
   "source": [
    "np.argsort(a)"
   ]
  },
  {
   "cell_type": "markdown",
   "id": "19f6ad5d-b1f7-4172-bce1-bc8afafcaa86",
   "metadata": {},
   "source": [
    "## File I/O with NumPy"
   ]
  },
  {
   "cell_type": "markdown",
   "id": "836ae9fd-3ccb-4dd1-b524-cdab77709fce",
   "metadata": {},
   "source": [
    "### Writing a NumPy Array to a File\n",
    "\n",
    "Let's say we have an array `a` that we would like to export to a file for some reason."
   ]
  },
  {
   "cell_type": "code",
   "execution_count": 44,
   "id": "cd81289c-b2dd-47d2-aab7-032059c470e2",
   "metadata": {},
   "outputs": [],
   "source": [
    "a = np.random.random((5,5))"
   ]
  },
  {
   "cell_type": "code",
   "execution_count": 45,
   "id": "a827fd19-7f33-401b-985b-f943b7c2ae8f",
   "metadata": {},
   "outputs": [
    {
     "name": "stdout",
     "output_type": "stream",
     "text": [
      "[[0.4087423  0.85036062 0.11727093 0.64444802 0.94214229]\n",
      " [0.98394459 0.86807377 0.41167469 0.44711477 0.50634084]\n",
      " [0.41937433 0.01886007 0.16057767 0.27276109 0.69533834]\n",
      " [0.2016641  0.32661234 0.06245383 0.15094267 0.15039554]\n",
      " [0.71624623 0.60866139 0.34005894 0.23732947 0.80218705]]\n"
     ]
    }
   ],
   "source": [
    "print(a)"
   ]
  },
  {
   "cell_type": "markdown",
   "id": "0c6687d4-254f-45c3-a70a-34a2aa02d7cb",
   "metadata": {},
   "source": [
    "One option would be to use `np.save()` which saves the array to a binary `.npy` file."
   ]
  },
  {
   "cell_type": "code",
   "execution_count": 46,
   "id": "7046fb46-a36f-4e61-ada2-c856fafb5408",
   "metadata": {},
   "outputs": [],
   "source": [
    "np.save('array1', a)"
   ]
  },
  {
   "cell_type": "markdown",
   "id": "de3808d7-8a18-40f8-ab0d-08c862b3bb7e",
   "metadata": {},
   "source": [
    "However, in many cases you might actually want to be able to see the contents of the file and use it with other programs like MATLAB. In that case, it makes much more sense to save the NumPy array as a human-readable text file. This can be done using `np.savetxt()`."
   ]
  },
  {
   "cell_type": "code",
   "execution_count": 47,
   "id": "d62b75cc-808f-43ff-b0f4-c36bffb1ad28",
   "metadata": {},
   "outputs": [],
   "source": [
    "np.savetxt('array2.txt', a)"
   ]
  },
  {
   "cell_type": "markdown",
   "id": "1d685374-2679-408e-9920-cda2068697ba",
   "metadata": {},
   "source": [
    "### Reading a NumPy Array from a File\n",
    "\n",
    "To read a binary `.npy` file into a NumPy array, we can use `np.load()`."
   ]
  },
  {
   "cell_type": "code",
   "execution_count": 48,
   "id": "2fc726af-fa61-4490-afc6-ed2ae76665c1",
   "metadata": {},
   "outputs": [],
   "source": [
    "b = np.load('array1.npy')"
   ]
  },
  {
   "cell_type": "code",
   "execution_count": 49,
   "id": "4a933234-2c79-4b84-b921-2f1767b5ad83",
   "metadata": {},
   "outputs": [
    {
     "data": {
      "text/plain": [
       "array([[0.4087423 , 0.85036062, 0.11727093, 0.64444802, 0.94214229],\n",
       "       [0.98394459, 0.86807377, 0.41167469, 0.44711477, 0.50634084],\n",
       "       [0.41937433, 0.01886007, 0.16057767, 0.27276109, 0.69533834],\n",
       "       [0.2016641 , 0.32661234, 0.06245383, 0.15094267, 0.15039554],\n",
       "       [0.71624623, 0.60866139, 0.34005894, 0.23732947, 0.80218705]])"
      ]
     },
     "execution_count": 49,
     "metadata": {},
     "output_type": "execute_result"
    }
   ],
   "source": [
    "b"
   ]
  },
  {
   "cell_type": "markdown",
   "id": "55358d24-a7b7-45fd-b3b7-24755cdd9f37",
   "metadata": {},
   "source": [
    "To read data from a text file into a NumPy array, we can use either `np.loadtxt()`"
   ]
  },
  {
   "cell_type": "code",
   "execution_count": 50,
   "id": "7f6a0860-9e8c-444c-af4a-583d91370e80",
   "metadata": {},
   "outputs": [],
   "source": [
    "c = np.loadtxt('array2.txt')"
   ]
  },
  {
   "cell_type": "code",
   "execution_count": 51,
   "id": "907fd5cc-1828-4a18-bae2-e270654f1ee6",
   "metadata": {},
   "outputs": [
    {
     "data": {
      "text/plain": [
       "array([[0.4087423 , 0.85036062, 0.11727093, 0.64444802, 0.94214229],\n",
       "       [0.98394459, 0.86807377, 0.41167469, 0.44711477, 0.50634084],\n",
       "       [0.41937433, 0.01886007, 0.16057767, 0.27276109, 0.69533834],\n",
       "       [0.2016641 , 0.32661234, 0.06245383, 0.15094267, 0.15039554],\n",
       "       [0.71624623, 0.60866139, 0.34005894, 0.23732947, 0.80218705]])"
      ]
     },
     "execution_count": 51,
     "metadata": {},
     "output_type": "execute_result"
    }
   ],
   "source": [
    "c"
   ]
  },
  {
   "cell_type": "markdown",
   "id": "15420caa-8647-4122-b89a-b90c296bd698",
   "metadata": {},
   "source": [
    "An important thing to note when saving floating-point arrays to text files is ***loss of significance***. Because we can only store a set number of significant digits in the text file, it is possible that the number of significant digits will be reduced when writing data to a file, introducing round-off errors and causing precision loss.\n",
    "\n",
    "Note that this is not the case when using the binary `.npy` format."
   ]
  },
  {
   "cell_type": "markdown",
   "id": "ba980a37-e14f-42c0-bbe7-309acd2be96a",
   "metadata": {},
   "source": [
    "When writing to a text file using the default setting of scientific notation with 16 significant digits, precision loss does not occur under normal circumstances. However, note that this is dependent on the *datatype* of your array.\n",
    "\n",
    "However, when specifying the number of decimal points or significant digits, or exporting with floating-point notation, precision loss is commonplace and very likely to occur."
   ]
  },
  {
   "cell_type": "markdown",
   "id": "87e721af-7be2-4779-8d3e-11167f7c7e73",
   "metadata": {},
   "source": [
    "## Acknowledgement\n",
    "\n",
    "This is a modified version of the Tufts University Data Lab Workshop https://tuftsdatalab.github.io/intro-numpy/ developed by Uku-Kaspar Uustalu."
   ]
  }
 ],
 "metadata": {
  "kernelspec": {
   "display_name": "Python 3 (ipykernel)",
   "language": "python",
   "name": "python3"
  },
  "language_info": {
   "codemirror_mode": {
    "name": "ipython",
    "version": 3
   },
   "file_extension": ".py",
   "mimetype": "text/x-python",
   "name": "python",
   "nbconvert_exporter": "python",
   "pygments_lexer": "ipython3",
   "version": "3.8.0"
  }
 },
 "nbformat": 4,
 "nbformat_minor": 5
}
