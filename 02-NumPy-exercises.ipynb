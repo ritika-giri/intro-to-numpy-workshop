{
 "cells": [
  {
   "cell_type": "markdown",
   "id": "dfe109c6-7eaf-4c3b-b422-173a1a08f9f6",
   "metadata": {},
   "source": [
    "# Test your NumPy skills"
   ]
  },
  {
   "cell_type": "code",
   "execution_count": 1,
   "id": "ad111ab9-0af6-460d-9905-38d5a8b23a38",
   "metadata": {},
   "outputs": [],
   "source": [
    "# import numpy for use in this notebook\n"
   ]
  },
  {
   "cell_type": "code",
   "execution_count": 2,
   "id": "ad08b181-6e3f-4d67-a9dd-a9a735e69bf3",
   "metadata": {},
   "outputs": [],
   "source": [
    "# create an array with 2 rows and 1 columns\n"
   ]
  },
  {
   "cell_type": "code",
   "execution_count": 3,
   "id": "5a51f48e-31c3-45bb-8daa-456089b5486a",
   "metadata": {},
   "outputs": [],
   "source": [
    "# create a 2x3 array of type string\n"
   ]
  },
  {
   "cell_type": "code",
   "execution_count": null,
   "id": "35f17f48-3112-461e-b4d4-0beaea8025e3",
   "metadata": {},
   "outputs": [],
   "source": [
    "# find the size of array a\n",
    "a = np.array([[[1, 2, 3, 4], [5, 6, 7, 8], [9, 10, 11, 12]],\n",
    "              [[13, 14, 15, 16], [17, 18, 19, 20], [21, 22, 23, 24]]])\n",
    "\n"
   ]
  },
  {
   "cell_type": "code",
   "execution_count": null,
   "id": "f3a3e6e9-0ecd-4418-aeb4-3f7a7e6879a8",
   "metadata": {},
   "outputs": [],
   "source": [
    "# query how many elements are in a\n"
   ]
  },
  {
   "cell_type": "code",
   "execution_count": null,
   "id": "1a4cf457-0215-4aad-98e8-b215c6211cdd",
   "metadata": {},
   "outputs": [],
   "source": [
    "# query how many dimensions are in a\n"
   ]
  },
  {
   "cell_type": "code",
   "execution_count": null,
   "id": "8aa2d146-f871-4619-87a5-7a971c8608be",
   "metadata": {},
   "outputs": [],
   "source": [
    "# query the datatype of a\n"
   ]
  },
  {
   "cell_type": "code",
   "execution_count": null,
   "id": "40e49dd0-47e0-45f3-aa48-02d4c4241586",
   "metadata": {},
   "outputs": [],
   "source": [
    "# create a 4x6 empty array\n"
   ]
  },
  {
   "cell_type": "code",
   "execution_count": null,
   "id": "e6be7802-b10c-48d9-b600-9d6f36d225b9",
   "metadata": {},
   "outputs": [],
   "source": [
    "# create an array of zeros of shape 3x3\n"
   ]
  },
  {
   "cell_type": "code",
   "execution_count": null,
   "id": "c784601c-b95c-477f-afb8-d88498a8e280",
   "metadata": {},
   "outputs": [],
   "source": [
    "# create an 2x4 array filled with random numbers\n"
   ]
  },
  {
   "cell_type": "code",
   "execution_count": null,
   "id": "ae0d753a-1e80-421b-a9d4-b61b3db6fc65",
   "metadata": {},
   "outputs": [],
   "source": [
    "# create an array of integers from [1, 100]\n"
   ]
  },
  {
   "cell_type": "code",
   "execution_count": null,
   "id": "4a6815ff-c561-468d-b179-169cb800e488",
   "metadata": {},
   "outputs": [],
   "source": [
    "# create an array containing all even numbers between 3-300\n"
   ]
  },
  {
   "cell_type": "code",
   "execution_count": null,
   "id": "6ebfbc3c-2be3-4fd9-a58a-5d277f7ab208",
   "metadata": {},
   "outputs": [],
   "source": [
    "# create an array containing all multiples of 3 between 3-300\n"
   ]
  },
  {
   "cell_type": "code",
   "execution_count": null,
   "id": "10f55276-878a-4628-aac9-4164b02e2388",
   "metadata": {},
   "outputs": [],
   "source": [
    "# matrix-multiply a and b\n",
    "a = np.array([[ 1,  2,  3],\n",
    "              [ 4,  5,  6],\n",
    "              [ 7,  8,  9]])\n",
    "\n",
    "b = np.array([[10, 11, 12],\n",
    "              [13, 14, 15],\n",
    "              [16, 17, 18]])\n",
    "\n"
   ]
  },
  {
   "cell_type": "code",
   "execution_count": null,
   "id": "dcffc973-d777-4706-b5fa-e63890d308be",
   "metadata": {},
   "outputs": [],
   "source": [
    "# find the max of a\n"
   ]
  },
  {
   "cell_type": "code",
   "execution_count": null,
   "id": "535310b0-8932-4da1-a159-e60e77f2063d",
   "metadata": {},
   "outputs": [],
   "source": [
    "# find the index of the max of a\n"
   ]
  },
  {
   "cell_type": "code",
   "execution_count": null,
   "id": "82354674-7558-4f4b-86ac-a45b0db59ef4",
   "metadata": {},
   "outputs": [],
   "source": [
    "# find the 2nd element in the 1st row of a\n"
   ]
  },
  {
   "cell_type": "code",
   "execution_count": null,
   "id": "9c1f7223-c2f6-4144-9db0-93c822a36aeb",
   "metadata": {},
   "outputs": [],
   "source": [
    "# find the last element of the last row of a\n"
   ]
  },
  {
   "cell_type": "code",
   "execution_count": null,
   "id": "ca593c87-bbf4-4059-99c7-02177d18f403",
   "metadata": {},
   "outputs": [],
   "source": [
    "# reshape a into a single row-vector\n"
   ]
  },
  {
   "cell_type": "code",
   "execution_count": null,
   "id": "4c9fd200-0742-4da8-9f7e-2890bd3524aa",
   "metadata": {},
   "outputs": [],
   "source": [
    "# reshape a into a single column-vector\n"
   ]
  },
  {
   "cell_type": "code",
   "execution_count": null,
   "id": "27a96b8f-affc-4ccd-b659-32362fcb2c6f",
   "metadata": {},
   "outputs": [],
   "source": [
    "# find all non-border elements of a\n",
    "a = np.array([[ 1,  2,  3,  4],\n",
    "              [ 5,  6,  7,  8], \n",
    "              [ 9, 10, 11, 12], \n",
    "              [13, 14, 15, 16], \n",
    "              [17, 18, 19, 20]])\n",
    "\n"
   ]
  },
  {
   "cell_type": "code",
   "execution_count": null,
   "id": "ef82e7c2-a191-4eb2-9f13-bde06749f73a",
   "metadata": {},
   "outputs": [],
   "source": [
    "# reverse the order of elements in the first row of a\n"
   ]
  },
  {
   "cell_type": "code",
   "execution_count": null,
   "id": "b9864d68-48b2-43c8-b796-7a451a4e9fd0",
   "metadata": {},
   "outputs": [],
   "source": [
    "# create a random array of size 10 and sort the elements\n"
   ]
  },
  {
   "cell_type": "code",
   "execution_count": null,
   "id": "5e18ca43-d4ea-4299-9f7a-6cbb761cbb34",
   "metadata": {},
   "outputs": [],
   "source": []
  }
 ],
 "metadata": {
  "kernelspec": {
   "display_name": "Python 3 (ipykernel)",
   "language": "python",
   "name": "python3"
  },
  "language_info": {
   "codemirror_mode": {
    "name": "ipython",
    "version": 3
   },
   "file_extension": ".py",
   "mimetype": "text/x-python",
   "name": "python",
   "nbconvert_exporter": "python",
   "pygments_lexer": "ipython3",
   "version": "3.8.0"
  }
 },
 "nbformat": 4,
 "nbformat_minor": 5
}
